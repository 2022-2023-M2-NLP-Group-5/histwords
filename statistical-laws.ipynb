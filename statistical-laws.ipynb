{
 "cells": [
  {
   "cell_type": "markdown",
   "metadata": {},
   "source": [
    "# Estimating the effects of frequency and polysemy on semantic change\n",
    "\n",
    "This notebook contains code to replicate the main result of [Diachronic Word Embeddings Reveal Statistical Laws of Semantic Change](http://arxiv.org/pdf/1605.09096.pdf)\n",
    "\n",
    "This notebook assumes that you have downloaded all the full historical datasets from [link to data](http://TODO) and that you have put the datasets for all the different languages/corpora under the same root directory, e.g., (.../root_dir/eng-all/)"
   ]
  },
  {
   "cell_type": "code",
   "execution_count": 7,
   "metadata": {
    "collapsed": false
   },
   "outputs": [],
   "source": [
    "#Basic imports\n",
    "# You need to modify the DATA_DIR path below. \n",
    "import sys\n",
    "\n",
    "import matplotlib\n",
    "import collections\n",
    "import numpy as np\n",
    "import matplotlib.pyplot as plt\n",
    "import scipy as sp\n",
    "import os\n",
    "\n",
    "DATA_DIR = \"ROOT_DIR\"\n",
    "\n",
    "import ioutils as util\n",
    "from cooccurrence import matstore\n",
    "from statutils import plothelper, changepoint, trendestimator, seriesanalysis\n",
    "from vecanalysis.sequentialexplicit import SequentialExplicit\n",
    "from statutils import mixedmodels\n",
    "import seaborn as sns\n",
    "import statsmodels.api as sm\n",
    "from misc.fastfreqdist import CachedFreqDist\n",
    "\n",
    "%matplotlib inline"
   ]
  },
  {
   "cell_type": "markdown",
   "metadata": {},
   "source": [
    "### Loading the data\n",
    "\n",
    "First we load the data. Note the this is a lot of data so this may take a while and requires a lot of RAM. You might need to reduce the number of datasets in the cell below."
   ]
  },
  {
   "cell_type": "code",
   "execution_count": 4,
   "metadata": {
    "collapsed": true
   },
   "outputs": [],
   "source": [
    "datasets = [\"eng-all\", \"eng-fiction-all\", \"ger-all\", \"fre-all\", \"chi-sim-all\", \"coha-word\", \"coha-lemma\"]"
   ]
  },
  {
   "cell_type": "code",
   "execution_count": 6,
   "metadata": {
    "collapsed": false
   },
   "outputs": [
    {
     "ename": "NameError",
     "evalue": "name 'os' is not defined",
     "output_type": "error",
     "traceback": [
      "\u001b[1;31m---------------------------------------------------------------------------\u001b[0m",
      "\u001b[1;31mNameError\u001b[0m                                 Traceback (most recent call last)",
      "\u001b[1;32m<ipython-input-6-5113ab790005>\u001b[0m in \u001b[0;36m<module>\u001b[1;34m()\u001b[0m\n\u001b[0;32m      7\u001b[0m \u001b[0mpos\u001b[0m \u001b[1;33m=\u001b[0m \u001b[0mcollections\u001b[0m\u001b[1;33m.\u001b[0m\u001b[0mdefaultdict\u001b[0m\u001b[1;33m(\u001b[0m\u001b[0mdict\u001b[0m\u001b[1;33m)\u001b[0m\u001b[1;33m\u001b[0m\u001b[0m\n\u001b[0;32m      8\u001b[0m \u001b[1;32mfor\u001b[0m \u001b[0mdataset\u001b[0m \u001b[1;32min\u001b[0m \u001b[0mdatasets\u001b[0m\u001b[1;33m:\u001b[0m\u001b[1;33m\u001b[0m\u001b[0m\n\u001b[1;32m----> 9\u001b[1;33m     \u001b[1;32mfor\u001b[0m \u001b[0myear_file\u001b[0m \u001b[1;32min\u001b[0m \u001b[0mos\u001b[0m\u001b[1;33m.\u001b[0m\u001b[0mlistdir\u001b[0m\u001b[1;33m(\u001b[0m\u001b[0mDATA_DIR\u001b[0m\u001b[1;33m.\u001b[0m\u001b[0mformat\u001b[0m\u001b[1;33m(\u001b[0m\u001b[0mdataset\u001b[0m\u001b[1;33m)\u001b[0m \u001b[1;33m+\u001b[0m \u001b[1;34m\"/pos\"\u001b[0m\u001b[1;33m)\u001b[0m\u001b[1;33m:\u001b[0m\u001b[1;33m\u001b[0m\u001b[0m\n\u001b[0m\u001b[0;32m     10\u001b[0m         \u001b[0myear\u001b[0m \u001b[1;33m=\u001b[0m \u001b[0mint\u001b[0m\u001b[1;33m(\u001b[0m\u001b[0myear_file\u001b[0m\u001b[1;33m.\u001b[0m\u001b[0msplit\u001b[0m\u001b[1;33m(\u001b[0m\u001b[1;34m\"-\"\u001b[0m\u001b[1;33m)\u001b[0m\u001b[1;33m[\u001b[0m\u001b[1;36m0\u001b[0m\u001b[1;33m]\u001b[0m\u001b[1;33m)\u001b[0m\u001b[1;33m\u001b[0m\u001b[0m\n\u001b[0;32m     11\u001b[0m         \u001b[0mpos\u001b[0m\u001b[1;33m[\u001b[0m\u001b[0mdataset\u001b[0m\u001b[1;33m]\u001b[0m\u001b[1;33m[\u001b[0m\u001b[0myear\u001b[0m\u001b[1;33m]\u001b[0m \u001b[1;33m=\u001b[0m \u001b[0mutil\u001b[0m\u001b[1;33m.\u001b[0m\u001b[0mload_pickle\u001b[0m\u001b[1;33m(\u001b[0m\u001b[0mDATA_DIR\u001b[0m\u001b[1;33m.\u001b[0m\u001b[0mformat\u001b[0m\u001b[1;33m(\u001b[0m\u001b[0mdataset\u001b[0m\u001b[1;33m)\u001b[0m \u001b[1;33m+\u001b[0m \u001b[1;34m\"pos/\"\u001b[0m \u001b[1;33m+\u001b[0m \u001b[0myear_file\u001b[0m\u001b[1;33m)\u001b[0m\u001b[1;33m\u001b[0m\u001b[0m\n",
      "\u001b[1;31mNameError\u001b[0m: name 'os' is not defined"
     ]
    }
   ],
   "source": [
    "# load the estimates of semantic change\n",
    "volstats = {}\n",
    "for dataset in datasets:\n",
    "    volstats[dataset] = util.load_pickle(DATA_DIR.format(dataset) + \"volstats/vols.pkl\")"
   ]
  },
  {
   "cell_type": "code",
   "execution_count": null,
   "metadata": {
    "collapsed": true
   },
   "outputs": [],
   "source": [
    "# load the historical word frequencies\n",
    "freqs = {}\n",
    "for dataset in datasets:\n",
    "    freqs[dataset] = util.load_pickle(DATA_DIR.format(dataset) + \"freqs.pkl\""
   ]
  },
  {
   "cell_type": "code",
   "execution_count": 10,
   "metadata": {
    "collapsed": false
   },
   "outputs": [],
   "source": [
    "# load the historical POS tags\n",
    "pos = collections.defaultdict(dict)\n",
    "for dataset in datasets:\n",
    "    for year_file in os.listdir(DATA_DIR.format(dataset) + \"/pos\"):\n",
    "        if \"counts\" in year_file:\n",
    "            continue\n",
    "        year = int(year_file.split(\"-\")[0])\n",
    "        pos[dataset][year] = util.load_pickle(DATA_DIR.format(dataset) + \"pos/\" + year_file)"
   ]
  },
  {
   "cell_type": "code",
   "execution_count": 20,
   "metadata": {
    "collapsed": false
   },
   "outputs": [],
   "source": [
    "# load the network based co-occurrence scores\n",
    "netstats = {}\n",
    "clust_meds = {}\n",
    "for dataset in datasets:\n",
    "    netstats[dataset] = util.load_pickle(DATA_DIR.format(dataset) + \"/netstats/full-nstop_nproper-top10000.pkl\")[\"bclust\"]\n",
    "    clust_meds[dataset] = seriesanalysis.get_series_median(netstats[dataset], volstats[dataset].keys(), \n",
    "                                                 start_year=np.min(pos[dataset].keys()), end_year=np.max(pos[dataset].keys()), year_inc=10)"
   ]
  },
  {
   "cell_type": "code",
   "execution_count": 107,
   "metadata": {
    "collapsed": false
   },
   "outputs": [],
   "source": [
    "# load sets of all words that occurred more than 500 times\n",
    "# really only matters for the COHA datasets\n",
    "valid_words = collections.defaultdict(dict)\n",
    "min_count = 500\n",
    "for dataset in datasets:\n",
    "    for year in pos[dataset].keys():\n",
    "        valid_words[dataset][year] = set(util.words_above_count(DATA_DIR.format(dataset) + \"/counts/\", year, min_count))"
   ]
  },
  {
   "cell_type": "code",
   "execution_count": 117,
   "metadata": {
    "collapsed": false
   },
   "outputs": [],
   "source": [
    "# This his helper code to set up the Pandas data frames\n",
    "main_tags = set([\"VERB\", \"NOUN\", \"ADJ\", \"ADV\"])\n",
    "make_pos = lambda tag : \"ADJ\" if tag==\"jj\" else \"ADV\" if tag==\"rr\" else \"NOUN\" if tag==\"nn\" else \"VERB\" if tag==\"vv\" else tag\n",
    "def make_df(volstats, dataset):\n",
    "    if \"coha\" in dataset:\n",
    "        offset = 5\n",
    "    else:\n",
    "        offset = 1\n",
    "    feature_dict = {\"freq\" : (lambda word, year : float('nan') if not word in valid_words[dataset][year] else np.log(freqs[dataset][word][year-10])),\n",
    "                 \"vol\" : (lambda word, year : np.log(np.arccos(volstats[dataset][word][year]))),\n",
    "                \"clust\" : (lambda word, year : -np.log(netstats[dataset][word][year-10]) + np.log(clust_meds[dataset][(year-int(np.min(pos[dataset].keys()))) / 10 - 1])),\n",
    "                \"pos\" : (lambda word, year : float('nan') if not word in pos[dataset][year] or not make_pos(pos[dataset][year][word]) in main_tags else make_pos(pos[dataset][year][word])), \n",
    "                }\n",
    "    return mixedmodels.make_data_frame(volstats[dataset].keys(), sorted(pos[dataset].keys())[offset:], feature_dict)"
   ]
  },
  {
   "cell_type": "markdown",
   "metadata": {},
   "source": [
    "### Running the regressions\n",
    "\n",
    "Now that the data is loaded (finally..). We can run the regressions. \n",
    "We do this using pandas and statsmodels."
   ]
  },
  {
   "cell_type": "code",
   "execution_count": 118,
   "metadata": {
    "collapsed": false
   },
   "outputs": [
    {
     "name": "stdout",
     "output_type": "stream",
     "text": [
      "coha-lemma\n",
      "coha-word\n"
     ]
    }
   ],
   "source": [
    "# Construct the pandas data frames\n",
    "volstat_dfs = {}\n",
    "for dataset in datasets:\n",
    "    df = make_df(volstats, dataset)\n",
    "    df[\"vol\"] = (df[\"vol\"] - np.mean(df[\"vol\"])) / np.std(df[\"vol\"])\n",
    "    volstat_dfs[dataset] = df"
   ]
  },
  {
   "cell_type": "code",
   "execution_count": 119,
   "metadata": {
    "collapsed": false,
    "scrolled": true
   },
   "outputs": [],
   "source": [
    "# Run the mixed model regressions.\n",
    "# This can take a while (hours)\n",
    "formula = \"vol ~ C(year) + freq + clust\"\n",
    "v1_res = {}\n",
    "for dataset in datasets:\n",
    "    df = volstat_dfs[dataset]\n",
    "    v1_res[dataset] =  mixedmodels.run_lmm(formula, df, groups=df[\"word\"], reml=True)"
   ]
  },
  {
   "cell_type": "code",
   "execution_count": 120,
   "metadata": {
    "collapsed": false
   },
   "outputs": [],
   "source": [
    "# Extract the coefficents that we are interested in\n",
    "freq_coefs = {}\n",
    "freq_errs = {}\n",
    "for name, res in v1_res.iteritems():\n",
    "    freq_coefs[name] = res.fe_params[\"freq\"]\n",
    "    freq_errs[name] = res.bse[\"freq\"]\n",
    "\n",
    "clust_coefs = {}\n",
    "clust_errs = {}\n",
    "for name, res in v1_res.iteritems():\n",
    "    clust_coefs[name] = res.fe_params[\"clust\"]\n",
    "    clust_errs[name] = res.bse[\"clust\"]"
   ]
  },
  {
   "cell_type": "code",
   "execution_count": 128,
   "metadata": {
    "collapsed": false
   },
   "outputs": [
    {
     "data": {
      "text/plain": [
       "{'chi-sim-all': 0.49970876935555403,\n",
       " 'coha-lemma': 0.37886518834014704,\n",
       " 'coha-word': 0.41948004921927362,\n",
       " 'eng-all': 0.69066927150356028,\n",
       " 'eng-fiction-all': 0.501691957500491,\n",
       " 'fre-all': 0.76808095300514911,\n",
       " 'ger-all': 0.57191349854546047}"
      ]
     },
     "execution_count": 128,
     "metadata": {},
     "output_type": "execute_result"
    }
   ],
   "source": [
    "clust_coefs"
   ]
  },
  {
   "cell_type": "markdown",
   "metadata": {},
   "source": [
    "### Plotting the data\n",
    "\n",
    "Finally we can plot the data!"
   ]
  },
  {
   "cell_type": "code",
   "execution_count": 122,
   "metadata": {
    "collapsed": false
   },
   "outputs": [],
   "source": [
    "# Setting up the plot style.\n",
    "# Uses seaborn\n",
    "sns.set_style(\"whitegrid\")\n",
    "plt.rcParams[\"font.sans-serif\"].insert(0, \"Helvetica\")\n",
    "plt.rcParams[\"lines.linewidth\"] = 1.0\n",
    "plt.rcParams[\"patch.linewidth\"] = 1.0\n",
    "plt.rcParams[\"grid.linewidth\"] = 0.4\n",
    "plt.rcParams[\"grid.color\"] = \"gray\"\n",
    "plt.rcParams[\"grid.alpha\"] = 0.2\n",
    "plt.rcParams[\"axes.linewidth\"] = 1.0\n",
    "plt.rcParams[\"axes.labelsize\"] =  9\n",
    "plt.rcParams[\"axes.titlesize\"] = 11\n",
    "plt.rcParams[\"xtick.labelsize\"] = 8\n",
    "plt.rcParams[\"ytick.labelsize\"] = 8\n",
    "plt.rcParams[\"ytick.major.size\"] = 4\n",
    "plt.rcParams[\"ytick.major.width\"] = 0.5\n",
    "plt.rcParams[\"xtick.major.size\"] = 4\n",
    "plt.rcParams[\"xtick.major.width\"] = 0.5\n",
    "plt.rcParams[\"xtick.minor.size\"] = 2\n",
    "plt.rcParams[\"ytick.minor.size\"] = 2\n",
    "plt.rcParams[\"xtick.minor.width\"] = 0.5\n",
    "plt.rcParams[\"legend.fontsize\"] = 10\n",
    "plt.rc('font',**{'family':'sans-serif','sans-serif':['Helvetica']})\n",
    "plt.rc('text', usetex=True)\n",
    "def clean_plot(axis):\n",
    "    axis.xaxis.set_ticks_position('bottom')\n",
    "    axis.yaxis.set_ticks_position('left')\n",
    "    axis.minorticks_on()"
   ]
  },
  {
   "cell_type": "code",
   "execution_count": 124,
   "metadata": {
    "collapsed": false
   },
   "outputs": [
    {
     "data": {
      "image/png": "[encoded data removed]",
      "text/plain": [
       "<matplotlib.figure.Figure at 0x7fdaddf8fe50>"
      ]
     },
     "metadata": {},
     "output_type": "display_data"
    }
   ],
   "source": [
    "plt.rcParams[\"figure.figsize\"] = (6.29, 1.8)\n",
    "labels = [\"eng-all\", \"eng-fiction-all\", \"coha-word\", \"coha-lemma\", \"ger-all\", \"fre-all\", \"chi-sim-all\"]\n",
    "arrs = np.array(range(len(labels))) + 0.5\n",
    "_, axs = plt.subplots(1,2)\n",
    "axs[0].barh(arrs,[freq_coefs[d] for d in labels],xerr=[1.96*freq_errs[d] for d in labels], align=\"center\", ecolor=sns.color_palette()[2], linewidth=0.1)\n",
    "axs[0].xaxis.set_ticks_position(\"bottom\")\n",
    "axs[0].yaxis.set_ticks_position(\"left\")\n",
    "axs[0].set_yticks(arrs)\n",
    "plot_labels = [\"eng-all\", \"eng-fic\", \"coha-word\", \"coha-lemma\", \"ger-all\", \"fre-all\", \"chi-all\"]\n",
    "axs[0].set_yticklabels(plot_labels)\n",
    "axs[0].set_xticks(np.arange(-1.5, 0.2, 0.3))\n",
    "axs[1].barh(arrs,[clust_coefs[d] for d in labels], align=\"center\", xerr=[1.96*clust_errs[d] for d in labels], ecolor=sns.color_palette()[2], linewidth=0.1)\n",
    "axs[1].xaxis.set_ticks_position(\"bottom\")\n",
    "axs[1].yaxis.set_ticks_position(\"left\")\n",
    "axs[1].set_yticks([])\n",
    "axs[1].set_yticklabels([])\n",
    "axs[1].set_xticks(np.arange(0, 1.0, 0.2))\n",
    "axs[0].set_xlabel(r\"$\\hat{\\beta}_{f}$\")\n",
    "axs[1].set_xlabel(r\"$\\hat{\\beta}_{d}$\")\n",
    "plt.tight_layout()\n",
    "plt.savefig(\"full-effects.pdf\")"
   ]
  }
 ],
 "metadata": {
  "kernelspec": {
   "display_name": "Python 2",
   "language": "python",
   "name": "python2"
  },
  "language_info": {
   "codemirror_mode": {
    "name": "ipython",
    "version": 2
   },
   "file_extension": ".py",
   "mimetype": "text/x-python",
   "name": "python",
   "nbconvert_exporter": "python",
   "pygments_lexer": "ipython2",
   "version": "2.7.10"
  }
 },
 "nbformat": 4,
 "nbformat_minor": 0
}
